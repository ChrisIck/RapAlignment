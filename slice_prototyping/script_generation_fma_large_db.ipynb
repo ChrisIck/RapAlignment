{
 "cells": [
  {
   "cell_type": "code",
   "execution_count": 1,
   "metadata": {},
   "outputs": [],
   "source": [
    "import os\n",
    "\n",
    "base_script = '''#!/bin/bash\n",
    "\n",
    "#SBATCH --job-name=c{part}\n",
    "#SBATCH --nodes=1\n",
    "#SBATCH --cpus-per-task=1\n",
    "#SBATCH --mem=8GB\n",
    "#SBATCH --time=168:00:00\n",
    "#SBATCH --mail-user=chris.ick@nyu.edu\n",
    "#SBATCH --export=NONE\n",
    "#SBATCH --output=\"outputs/o_{part}-%j.out\"\n",
    "\n",
    "module purge\n",
    "module load anaconda3/2020.07\n",
    "\n",
    "source activate rap_env\n",
    "cd /home/ci411/RapAlignment\n",
    "python process_beats.py --audio-path='/scratch/work/sonyc/marl/private_datasets/FMA/fma_large/fma_large/{part}' --jams-dir='/scratch/ci411/rap_data/jams_fma_large'\n",
    "'''"
   ]
  },
  {
   "cell_type": "code",
   "execution_count": 2,
   "metadata": {},
   "outputs": [
    {
     "data": {
      "text/plain": [
       "'#!/bin/bash\\n\\n#SBATCH --job-name=c000\\n#SBATCH --nodes=1\\n#SBATCH --cpus-per-task=1\\n#SBATCH --mem=8GB\\n#SBATCH --time=168:00:00\\n#SBATCH --mail-user=chris.ick@nyu.edu\\n#SBATCH --export=NONE\\n#SBATCH --output=\"outputs/o_000-%j.out\"\\n\\nmodule purge\\nmodule load anaconda3/2020.07\\n\\nsource activate rap_env\\ncd /home/ci411/RapAlignment\\npython process_beats.py --audio-path=\\'/scratch/work/sonyc/marl/private_datasets/FMA/fma_large/fma_large/000\\' --jams-dir=\\'/scratch/ci411/rap_data/jams_fma_large\\'\\n'"
      ]
     },
     "execution_count": 2,
     "metadata": {},
     "output_type": "execute_result"
    }
   ],
   "source": [
    "base_script.format(part='000')"
   ]
  },
  {
   "cell_type": "code",
   "execution_count": 3,
   "metadata": {},
   "outputs": [],
   "source": [
    "with open('scripts/runall.bat', 'w') as f:\n",
    "    pass\n",
    "for i in range(156):\n",
    "    num = str(i).zfill(3)\n",
    "    script = base_script.format(part=num)\n",
    "    filename = 'part{}.sbatch'.format(num)\n",
    "    with open(os.path.join('scripts',filename), 'w') as f:\n",
    "        f.write(script)\n",
    "    with open('scripts/runall.bat', 'a') as f:\n",
    "        f.write('sbatch {}\\n'.format(filename))\n"
   ]
  },
  {
   "cell_type": "code",
   "execution_count": 4,
   "metadata": {},
   "outputs": [
    {
     "data": {
      "text/plain": [
       "'#!/bin/bash\\n\\n#SBATCH --job-name=c155\\n#SBATCH --nodes=1\\n#SBATCH --cpus-per-task=1\\n#SBATCH --mem=8GB\\n#SBATCH --time=168:00:00\\n#SBATCH --mail-user=chris.ick@nyu.edu\\n#SBATCH --export=NONE\\n#SBATCH --output=\"outputs/o_155-%j.out\"\\n\\nmodule purge\\nmodule load anaconda3/2020.07\\n\\nsource activate rap_env\\ncd /home/ci411/RapAlignment\\npython process_beats.py --audio-path=\\'/scratch/work/sonyc/marl/private_datasets/FMA/fma_large/fma_large/155\\' --jams-dir=\\'/scratch/ci411/rap_data/jams_fma_large\\'\\n'"
      ]
     },
     "execution_count": 4,
     "metadata": {},
     "output_type": "execute_result"
    }
   ],
   "source": [
    "base_script.format(part=num)"
   ]
  },
  {
   "cell_type": "code",
   "execution_count": 20,
   "metadata": {},
   "outputs": [],
   "source": [
    "redo_dirs = []"
   ]
  },
  {
   "cell_type": "code",
   "execution_count": 21,
   "metadata": {},
   "outputs": [
    {
     "name": "stdout",
     "output_type": "stream",
     "text": [
      "[]\n"
     ]
    }
   ],
   "source": [
    "for path, subdirs, files in os.walk('scripts/outputs'):\n",
    "    for file in files:\n",
    "        if ('checkpoint' not in file and '.out' in file):\n",
    "            filepath = os.path.join('scripts/outputs', file)\n",
    "            with open(filepath, 'r') as f:\n",
    "                if 'Format mp3 detected only with low score of 1, misdetection possible!' in f.read():\n",
    "                    print(filepath)\n",
    "                    redo_dirs.append(file.split('_')[1].split('-')[0])\n",
    "                    file_root = filepath.split('.')[0]\n",
    "                    os.rename(filepath, file_root+'.redo')\n",
    "        \n",
    "print(redo_dirs)"
   ]
  },
  {
   "cell_type": "code",
   "execution_count": 18,
   "metadata": {},
   "outputs": [],
   "source": [
    "with open('scripts/redo.bat', 'w') as f:\n",
    "    pass\n",
    "for num in redo_dirs:\n",
    "    filename = 'part{}.sbatch'.format(num)\n",
    "    with open('scripts/redo.bat', 'a') as f:\n",
    "        f.write('sbatch {}\\n'.format(filename))\n",
    "\n",
    "\n",
    "    "
   ]
  }
 ],
 "metadata": {
  "kernelspec": {
   "display_name": "Python [conda env:.conda-rap_env]",
   "language": "python",
   "name": "conda-env-.conda-rap_env-py"
  },
  "language_info": {
   "codemirror_mode": {
    "name": "ipython",
    "version": 3
   },
   "file_extension": ".py",
   "mimetype": "text/x-python",
   "name": "python",
   "nbconvert_exporter": "python",
   "pygments_lexer": "ipython3",
   "version": "3.6.12"
  }
 },
 "nbformat": 4,
 "nbformat_minor": 4
}
