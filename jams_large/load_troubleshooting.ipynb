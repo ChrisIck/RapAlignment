{
 "cells": [
  {
   "cell_type": "code",
   "execution_count": 3,
   "metadata": {},
   "outputs": [],
   "source": [
    "import librosa as lr\n",
    "from spleeter.audio.adapter import get_default_audio_adapter\n",
    "from spleeter import SpleeterError\n",
    "\n",
    "TEST_AUDIO = '/scratch/work/sonyc/marl/private_datasets/FMA/fma_large/fma_large/080/080391.mp3'"
   ]
  },
  {
   "cell_type": "code",
   "execution_count": 9,
   "metadata": {},
   "outputs": [
    {
     "name": "stdout",
     "output_type": "stream",
     "text": [
      "Bad file: /scratch/work/sonyc/marl/private_datasets/FMA/fma_large/fma_large/080/080391.mp3\n"
     ]
    }
   ],
   "source": [
    "audio_loader = get_default_audio_adapter()\n",
    "try:\n",
    "    x_t, sr = audio_loader.load(TEST_AUDIO)\n",
    "except(SpleeterError):\n",
    "    print(\"Bad file: {}\".format(TEST_AUDIO))\n",
    "    with open('/home/ci411/RapAlignment/jams_large/bad_files.txt', 'a+') as f:\n",
    "        f.write(TEST_AUDIO+'\\n')"
   ]
  },
  {
   "cell_type": "code",
   "execution_count": 6,
   "metadata": {},
   "outputs": [
    {
     "name": "stdout",
     "output_type": "stream",
     "text": [
      "/home/ci411/RapAlignment/jams_large\n"
     ]
    }
   ],
   "source": [
    "!pwd"
   ]
  },
  {
   "cell_type": "code",
   "execution_count": null,
   "metadata": {},
   "outputs": [],
   "source": []
  }
 ],
 "metadata": {
  "kernelspec": {
   "display_name": "Python [conda env:.conda-rap_env]",
   "language": "python",
   "name": "conda-env-.conda-rap_env-py"
  },
  "language_info": {
   "codemirror_mode": {
    "name": "ipython",
    "version": 3
   },
   "file_extension": ".py",
   "mimetype": "text/x-python",
   "name": "python",
   "nbconvert_exporter": "python",
   "pygments_lexer": "ipython3",
   "version": "3.6.12"
  }
 },
 "nbformat": 4,
 "nbformat_minor": 4
}
