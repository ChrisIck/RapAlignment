{
 "cells": [
  {
   "cell_type": "code",
   "execution_count": 1,
   "id": "3363d7ed",
   "metadata": {},
   "outputs": [],
   "source": [
    "import numpy as np\n",
    "import pandas as pd\n",
    "from rap_align import fma_utils, sampling_utils"
   ]
  },
  {
   "cell_type": "code",
   "execution_count": 10,
   "id": "df260067",
   "metadata": {},
   "outputs": [],
   "source": [
    "#import datasets, both pitch countours processed (fma_large_df) and track data for FMA (track_df)\n",
    "\n",
    "FMA_LARGE_CSV = '/scratch/ci411/rap_data/fma_large_pitchcontour.csv'\n",
    "fma_large_df = pd.read_csv(FMA_LARGE_CSV).drop(labels='Unnamed: 0', axis=1)\n",
    "\n",
    "TRACK_CSV = '/scratch/work/sonyc/marl/private_datasets/FMA/fma_metadata/fma_metadata/tracks.csv'\n",
    "track_df = fma_utils.load(TRACK_CSV)\n",
    "track_df = track_df['track']\n",
    "\n",
    "#join into 1 df on track_id\n",
    "joined_df = fma_large_df.merge(track_df, on='track_id', how='left')"
   ]
  },
  {
   "cell_type": "code",
   "execution_count": 11,
   "id": "5e65c5d4",
   "metadata": {},
   "outputs": [],
   "source": [
    "#split genre of each track and extract first (primary) genre\n",
    "single_genre_df = joined_df.copy().dropna(axis=0, subset=['genre_top'])\n",
    "\n",
    "#filter down to english-code music\n",
    "single_genre_df = single_genre_df[single_genre_df['language_code']=='en']"
   ]
  },
  {
   "cell_type": "code",
   "execution_count": 12,
   "id": "ba2a11c7",
   "metadata": {},
   "outputs": [],
   "source": [
    "#clone genre-extrated df, take harmonic mean of overall accuracies with pyin/crepe references as sampling func\n",
    "from statistics import harmonic_mean\n",
    "\n",
    "fma_large_sampling_df = single_genre_df.copy()\n",
    "selection_func = lambda row:harmonic_mean([row['cref_overall_acc'], row['pref_overall_acc']])\n",
    "fma_large_sampling_df['harmonic_mean'] = fma_large_sampling_df.apply(selection_func, axis=1)"
   ]
  },
  {
   "cell_type": "code",
   "execution_count": 13,
   "id": "ee1c3992",
   "metadata": {},
   "outputs": [
    {
     "name": "stderr",
     "output_type": "stream",
     "text": [
      "/home/ci411/RapAlignment/rap_align/sampling_utils.py:122: SettingWithCopyWarning: \n",
      "A value is trying to be set on a copy of a slice from a DataFrame.\n",
      "Try using .loc[row_indexer,col_indexer] = value instead\n",
      "\n",
      "See the caveats in the documentation: https://pandas.pydata.org/pandas-docs/stable/user_guide/indexing.html#returning-a-view-versus-a-copy\n",
      "  genre_df['sampling_prob'] = sampling_prob\n"
     ]
    }
   ],
   "source": [
    "#choose the genres we want to sample, the associated weights, and the number of desired samples\n",
    "sample_genres = ['Hip-Hop']\n",
    "sample_n = 1000\n",
    "\n",
    "#clearing NaNs\n",
    "sample_df = fma_large_sampling_df.dropna(axis=0, subset=['harmonic_mean'])\n",
    "sample = sampling_utils.sample_genres(sample_df, sample_n, sample_genres)"
   ]
  },
  {
   "cell_type": "code",
   "execution_count": 15,
   "id": "c75b53c1",
   "metadata": {},
   "outputs": [],
   "source": [
    "#extract list of track_ids\n",
    "track_ids = sample['track_id'].to_numpy().astype(str)\n",
    "\n",
    "#buffer ids to correct length\n",
    "for i, track_id in enumerate(track_ids):\n",
    "    l = len(track_id)\n",
    "    if l < 6:\n",
    "        track_ids[i] = (6-l)*'0' + track_id"
   ]
  },
  {
   "cell_type": "code",
   "execution_count": 9,
   "id": "7d70d09d",
   "metadata": {},
   "outputs": [],
   "source": [
    "#set audio, jams, and output directories\n",
    "fma_large_audio = \"/scratch/work/sonyc/marl/private_datasets/FMA/fma_large/fma_large/\"\n",
    "fma_large_jams = \"/scratch/ci411/rap_data/jams_files/jams_fma_large\"\n",
    "fma_large_clips = \"/scratch/ci411/rap_data/audio_clips/test_1\""
   ]
  },
  {
   "cell_type": "code",
   "execution_count": 9,
   "id": "d73c09b6",
   "metadata": {},
   "outputs": [
    {
     "name": "stderr",
     "output_type": "stream",
     "text": [
      "  7%|▋         | 41/552 [02:11<20:10,  2.37s/it]"
     ]
    },
    {
     "name": "stdout",
     "output_type": "stream",
     "text": [
      "[0 annotations]\n",
      "No beat annotations in /scratch/ci411/rap_data/jams_fma_large/014073.jamz\n",
      "No clip from 014073\n"
     ]
    },
    {
     "name": "stderr",
     "output_type": "stream",
     "text": [
      " 11%|█         | 59/552 [03:07<19:25,  2.36s/it]"
     ]
    },
    {
     "name": "stdout",
     "output_type": "stream",
     "text": [
      "[0 annotations]\n",
      "No beat annotations in /scratch/ci411/rap_data/jams_fma_large/014380.jamz\n",
      "No clip from 014380\n"
     ]
    },
    {
     "name": "stderr",
     "output_type": "stream",
     "text": [
      " 12%|█▏        | 65/552 [03:27<26:12,  3.23s/it]/scratch/ci411/.conda/envs/rap_env/lib/python3.6/site-packages/numpy/lib/function_base.py:380: RuntimeWarning: Mean of empty slice.\n",
      "  avg = a.mean(axis)\n",
      "/scratch/ci411/.conda/envs/rap_env/lib/python3.6/site-packages/numpy/core/_methods.py:170: RuntimeWarning: invalid value encountered in double_scalars\n",
      "  ret = ret.dtype.type(ret / rcount)\n",
      " 12%|█▏        | 66/552 [03:29<23:11,  2.86s/it]"
     ]
    },
    {
     "name": "stdout",
     "output_type": "stream",
     "text": [
      "0 windows expected of length 9 with 9 bars\n",
      "No clip from 152543\n"
     ]
    },
    {
     "name": "stderr",
     "output_type": "stream",
     "text": [
      " 17%|█▋        | 95/552 [05:01<18:14,  2.40s/it]"
     ]
    },
    {
     "name": "stdout",
     "output_type": "stream",
     "text": [
      "[0 annotations]\n",
      "No beat annotations in /scratch/ci411/rap_data/jams_fma_large/014538.jamz\n",
      "No clip from 014538\n"
     ]
    },
    {
     "name": "stderr",
     "output_type": "stream",
     "text": [
      " 19%|█▊        | 103/552 [05:27<24:08,  3.23s/it]/scratch/ci411/.conda/envs/rap_env/lib/python3.6/site-packages/numpy/lib/function_base.py:380: RuntimeWarning: Mean of empty slice.\n",
      "  avg = a.mean(axis)\n",
      "/scratch/ci411/.conda/envs/rap_env/lib/python3.6/site-packages/numpy/core/_methods.py:170: RuntimeWarning: invalid value encountered in double_scalars\n",
      "  ret = ret.dtype.type(ret / rcount)\n",
      " 19%|█▉        | 104/552 [05:29<21:23,  2.87s/it]"
     ]
    },
    {
     "name": "stdout",
     "output_type": "stream",
     "text": [
      "-1 windows expected of length 9 with 8 bars\n",
      "No clip from 015142\n"
     ]
    },
    {
     "name": "stderr",
     "output_type": "stream",
     "text": [
      " 22%|██▏       | 122/552 [06:25<17:10,  2.40s/it]"
     ]
    },
    {
     "name": "stdout",
     "output_type": "stream",
     "text": [
      "[0 annotations]\n",
      "No beat annotations in /scratch/ci411/rap_data/jams_fma_large/012526.jamz\n",
      "No clip from 012526\n"
     ]
    },
    {
     "name": "stderr",
     "output_type": "stream",
     "text": [
      " 27%|██▋       | 151/552 [07:57<15:51,  2.37s/it]"
     ]
    },
    {
     "name": "stdout",
     "output_type": "stream",
     "text": [
      "[0 annotations]\n",
      "No beat annotations in /scratch/ci411/rap_data/jams_fma_large/023034.jamz\n",
      "No clip from 023034\n"
     ]
    },
    {
     "name": "stderr",
     "output_type": "stream",
     "text": [
      " 30%|██▉       | 163/552 [08:36<21:12,  3.27s/it]/scratch/ci411/.conda/envs/rap_env/lib/python3.6/site-packages/numpy/lib/function_base.py:380: RuntimeWarning: Mean of empty slice.\n",
      "  avg = a.mean(axis)\n",
      "/scratch/ci411/.conda/envs/rap_env/lib/python3.6/site-packages/numpy/core/_methods.py:170: RuntimeWarning: invalid value encountered in double_scalars\n",
      "  ret = ret.dtype.type(ret / rcount)\n",
      " 30%|██▉       | 164/552 [08:37<15:35,  2.41s/it]"
     ]
    },
    {
     "name": "stdout",
     "output_type": "stream",
     "text": [
      "-8 windows expected of length 9 with 1 bars\n",
      "No clip from 011798\n"
     ]
    },
    {
     "name": "stderr",
     "output_type": "stream",
     "text": [
      " 30%|███       | 167/552 [08:47<19:01,  2.97s/it]/scratch/ci411/.conda/envs/rap_env/lib/python3.6/site-packages/numpy/lib/function_base.py:380: RuntimeWarning: Mean of empty slice.\n",
      "  avg = a.mean(axis)\n",
      "/scratch/ci411/.conda/envs/rap_env/lib/python3.6/site-packages/numpy/core/_methods.py:170: RuntimeWarning: invalid value encountered in double_scalars\n",
      "  ret = ret.dtype.type(ret / rcount)\n",
      " 30%|███       | 168/552 [08:48<15:57,  2.49s/it]"
     ]
    },
    {
     "name": "stdout",
     "output_type": "stream",
     "text": [
      "-2 windows expected of length 9 with 7 bars\n",
      "No clip from 015205\n"
     ]
    },
    {
     "name": "stderr",
     "output_type": "stream",
     "text": [
      " 36%|███▌      | 198/552 [10:23<13:59,  2.37s/it]"
     ]
    },
    {
     "name": "stdout",
     "output_type": "stream",
     "text": [
      "[0 annotations]\n",
      "No beat annotations in /scratch/ci411/rap_data/jams_fma_large/014382.jamz\n",
      "No clip from 014382\n"
     ]
    },
    {
     "name": "stderr",
     "output_type": "stream",
     "text": [
      " 42%|████▏     | 230/552 [12:05<12:49,  2.39s/it]"
     ]
    },
    {
     "name": "stdout",
     "output_type": "stream",
     "text": [
      "[0 annotations]\n",
      "No beat annotations in /scratch/ci411/rap_data/jams_fma_large/012183.jamz\n",
      "No clip from 012183\n"
     ]
    },
    {
     "name": "stderr",
     "output_type": "stream",
     "text": [
      " 47%|████▋     | 257/552 [13:34<16:22,  3.33s/it]/scratch/ci411/.conda/envs/rap_env/lib/python3.6/site-packages/numpy/lib/function_base.py:380: RuntimeWarning: Mean of empty slice.\n",
      "  avg = a.mean(axis)\n",
      "/scratch/ci411/.conda/envs/rap_env/lib/python3.6/site-packages/numpy/core/_methods.py:170: RuntimeWarning: invalid value encountered in double_scalars\n",
      "  ret = ret.dtype.type(ret / rcount)\n",
      " 47%|████▋     | 258/552 [13:36<14:23,  2.94s/it]"
     ]
    },
    {
     "name": "stdout",
     "output_type": "stream",
     "text": [
      "0 windows expected of length 9 with 9 bars\n",
      "No clip from 006449\n"
     ]
    },
    {
     "name": "stderr",
     "output_type": "stream",
     "text": [
      " 47%|████▋     | 259/552 [13:38<12:48,  2.62s/it]"
     ]
    },
    {
     "name": "stdout",
     "output_type": "stream",
     "text": [
      "3 windows expected of length 8 with 11 bars\n",
      "No clip from 011777\n"
     ]
    },
    {
     "name": "stderr",
     "output_type": "stream",
     "text": [
      " 47%|████▋     | 260/552 [13:41<13:42,  2.82s/it]/scratch/ci411/.conda/envs/rap_env/lib/python3.6/site-packages/numpy/lib/function_base.py:380: RuntimeWarning: Mean of empty slice.\n",
      "  avg = a.mean(axis)\n",
      "/scratch/ci411/.conda/envs/rap_env/lib/python3.6/site-packages/numpy/core/_methods.py:170: RuntimeWarning: invalid value encountered in double_scalars\n",
      "  ret = ret.dtype.type(ret / rcount)\n",
      " 47%|████▋     | 261/552 [13:43<12:28,  2.57s/it]"
     ]
    },
    {
     "name": "stdout",
     "output_type": "stream",
     "text": [
      "-1 windows expected of length 9 with 8 bars\n",
      "No clip from 011782\n"
     ]
    },
    {
     "name": "stderr",
     "output_type": "stream",
     "text": [
      " 48%|████▊     | 263/552 [13:47<09:50,  2.04s/it]"
     ]
    },
    {
     "name": "stdout",
     "output_type": "stream",
     "text": [
      "[0 annotations]\n",
      "No beat annotations in /scratch/ci411/rap_data/jams_fma_large/014543.jamz\n",
      "No clip from 014543\n"
     ]
    },
    {
     "name": "stderr",
     "output_type": "stream",
     "text": [
      " 50%|█████     | 277/552 [14:31<13:18,  2.90s/it]"
     ]
    },
    {
     "name": "stdout",
     "output_type": "stream",
     "text": [
      "2 windows expected of length 8 with 10 bars\n",
      "No clip from 013733\n"
     ]
    },
    {
     "name": "stderr",
     "output_type": "stream",
     "text": [
      " 53%|█████▎    | 290/552 [15:11<10:20,  2.37s/it]"
     ]
    },
    {
     "name": "stdout",
     "output_type": "stream",
     "text": [
      "[0 annotations]\n",
      "No beat annotations in /scratch/ci411/rap_data/jams_fma_large/014369.jamz\n",
      "No clip from 014369\n"
     ]
    },
    {
     "name": "stderr",
     "output_type": "stream",
     "text": [
      " 53%|█████▎    | 295/552 [15:24<09:42,  2.26s/it]"
     ]
    },
    {
     "name": "stdout",
     "output_type": "stream",
     "text": [
      "[0 annotations]\n",
      "No beat annotations in /scratch/ci411/rap_data/jams_fma_large/014352.jamz\n",
      "No clip from 014352\n"
     ]
    },
    {
     "name": "stderr",
     "output_type": "stream",
     "text": [
      " 58%|█████▊    | 321/552 [16:47<09:13,  2.39s/it]"
     ]
    },
    {
     "name": "stdout",
     "output_type": "stream",
     "text": [
      "[0 annotations]\n",
      "No beat annotations in /scratch/ci411/rap_data/jams_fma_large/014366.jamz\n",
      "No clip from 014366\n"
     ]
    },
    {
     "name": "stderr",
     "output_type": "stream",
     "text": [
      " 61%|██████    | 334/552 [17:28<10:30,  2.89s/it]"
     ]
    },
    {
     "name": "stdout",
     "output_type": "stream",
     "text": [
      "3 windows expected of length 9 with 12 bars\n",
      "No clip from 018221\n"
     ]
    },
    {
     "name": "stderr",
     "output_type": "stream",
     "text": [
      " 64%|██████▍   | 352/552 [18:27<10:57,  3.29s/it]/scratch/ci411/.conda/envs/rap_env/lib/python3.6/site-packages/numpy/lib/function_base.py:380: RuntimeWarning: Mean of empty slice.\n",
      "  avg = a.mean(axis)\n",
      "/scratch/ci411/.conda/envs/rap_env/lib/python3.6/site-packages/numpy/core/_methods.py:170: RuntimeWarning: invalid value encountered in double_scalars\n",
      "  ret = ret.dtype.type(ret / rcount)\n",
      " 64%|██████▍   | 353/552 [18:29<09:37,  2.90s/it]"
     ]
    },
    {
     "name": "stdout",
     "output_type": "stream",
     "text": [
      "-1 windows expected of length 9 with 8 bars\n",
      "No clip from 005265\n"
     ]
    },
    {
     "name": "stderr",
     "output_type": "stream",
     "text": [
      " 66%|██████▌   | 364/552 [19:06<10:21,  3.31s/it]/scratch/ci411/.conda/envs/rap_env/lib/python3.6/site-packages/numpy/lib/function_base.py:380: RuntimeWarning: Mean of empty slice.\n",
      "  avg = a.mean(axis)\n",
      "/scratch/ci411/.conda/envs/rap_env/lib/python3.6/site-packages/numpy/core/_methods.py:170: RuntimeWarning: invalid value encountered in double_scalars\n",
      "  ret = ret.dtype.type(ret / rcount)\n",
      " 66%|██████▌   | 365/552 [19:08<09:05,  2.91s/it]"
     ]
    },
    {
     "name": "stdout",
     "output_type": "stream",
     "text": [
      "0 windows expected of length 9 with 9 bars\n",
      "No clip from 015147\n"
     ]
    },
    {
     "name": "stderr",
     "output_type": "stream",
     "text": [
      " 74%|███████▍  | 409/552 [21:28<05:42,  2.40s/it]"
     ]
    },
    {
     "name": "stdout",
     "output_type": "stream",
     "text": [
      "[0 annotations]\n",
      "No beat annotations in /scratch/ci411/rap_data/jams_fma_large/012631.jamz\n",
      "No clip from 012631\n"
     ]
    },
    {
     "name": "stderr",
     "output_type": "stream",
     "text": [
      " 75%|███████▌  | 415/552 [21:47<07:06,  3.11s/it]/scratch/ci411/.conda/envs/rap_env/lib/python3.6/site-packages/numpy/lib/function_base.py:380: RuntimeWarning: Mean of empty slice.\n",
      "  avg = a.mean(axis)\n",
      "/scratch/ci411/.conda/envs/rap_env/lib/python3.6/site-packages/numpy/core/_methods.py:170: RuntimeWarning: invalid value encountered in double_scalars\n",
      "  ret = ret.dtype.type(ret / rcount)\n",
      " 75%|███████▌  | 416/552 [21:49<06:20,  2.79s/it]"
     ]
    },
    {
     "name": "stdout",
     "output_type": "stream",
     "text": [
      "0 windows expected of length 9 with 9 bars\n",
      "No clip from 003324\n"
     ]
    },
    {
     "name": "stderr",
     "output_type": "stream",
     "text": [
      " 77%|███████▋  | 423/552 [22:09<05:02,  2.34s/it]"
     ]
    },
    {
     "name": "stdout",
     "output_type": "stream",
     "text": [
      "[0 annotations]\n",
      "No beat annotations in /scratch/ci411/rap_data/jams_fma_large/014373.jamz\n",
      "No clip from 014373\n"
     ]
    },
    {
     "name": "stderr",
     "output_type": "stream",
     "text": [
      " 78%|███████▊  | 431/552 [22:32<04:47,  2.38s/it]"
     ]
    },
    {
     "name": "stdout",
     "output_type": "stream",
     "text": [
      "[0 annotations]\n",
      "No beat annotations in /scratch/ci411/rap_data/jams_fma_large/014378.jamz\n",
      "No clip from 014378\n"
     ]
    },
    {
     "name": "stderr",
     "output_type": "stream",
     "text": [
      " 84%|████████▍ | 466/552 [24:24<03:26,  2.40s/it]"
     ]
    },
    {
     "name": "stdout",
     "output_type": "stream",
     "text": [
      "[0 annotations]\n",
      "No beat annotations in /scratch/ci411/rap_data/jams_fma_large/014377.jamz\n",
      "No clip from 014377\n"
     ]
    },
    {
     "name": "stderr",
     "output_type": "stream",
     "text": [
      " 87%|████████▋ | 481/552 [25:10<02:48,  2.38s/it]"
     ]
    },
    {
     "name": "stdout",
     "output_type": "stream",
     "text": [
      "[0 annotations]\n",
      "No beat annotations in /scratch/ci411/rap_data/jams_fma_large/014355.jamz\n",
      "No clip from 014355\n"
     ]
    },
    {
     "name": "stderr",
     "output_type": "stream",
     "text": [
      " 92%|█████████▏| 508/552 [26:35<01:44,  2.38s/it]"
     ]
    },
    {
     "name": "stdout",
     "output_type": "stream",
     "text": [
      "[0 annotations]\n",
      "No beat annotations in /scratch/ci411/rap_data/jams_fma_large/012633.jamz\n",
      "No clip from 012633\n"
     ]
    },
    {
     "name": "stderr",
     "output_type": "stream",
     "text": [
      " 93%|█████████▎| 512/552 [26:46<01:43,  2.59s/it]"
     ]
    },
    {
     "name": "stdout",
     "output_type": "stream",
     "text": [
      "3 windows expected of length 8 with 11 bars\n",
      "No clip from 011813\n"
     ]
    },
    {
     "name": "stderr",
     "output_type": "stream",
     "text": [
      " 99%|█████████▉| 546/552 [28:35<00:14,  2.38s/it]"
     ]
    },
    {
     "name": "stdout",
     "output_type": "stream",
     "text": [
      "[0 annotations]\n",
      "No beat annotations in /scratch/ci411/rap_data/jams_fma_large/014379.jamz\n",
      "No clip from 014379\n"
     ]
    },
    {
     "name": "stderr",
     "output_type": "stream",
     "text": [
      "100%|█████████▉| 550/552 [28:48<00:06,  3.02s/it]/scratch/ci411/.conda/envs/rap_env/lib/python3.6/site-packages/numpy/lib/function_base.py:380: RuntimeWarning: Mean of empty slice.\n",
      "  avg = a.mean(axis)\n",
      "/scratch/ci411/.conda/envs/rap_env/lib/python3.6/site-packages/numpy/core/_methods.py:170: RuntimeWarning: invalid value encountered in double_scalars\n",
      "  ret = ret.dtype.type(ret / rcount)\n",
      "100%|█████████▉| 551/552 [28:50<00:02,  2.71s/it]"
     ]
    },
    {
     "name": "stdout",
     "output_type": "stream",
     "text": [
      "0 windows expected of length 9 with 9 bars\n",
      "No clip from 011894\n"
     ]
    },
    {
     "name": "stderr",
     "output_type": "stream",
     "text": [
      "100%|██████████| 552/552 [28:53<00:00,  3.14s/it]\n"
     ]
    }
   ],
   "source": [
    "#create audio clips\n",
    "sampling_utils.batch_sample_fma(track_ids, fma_large_audio, fma_large_jams, fma_large_clips)"
   ]
  },
  {
   "cell_type": "code",
   "execution_count": null,
   "id": "28b8dd15",
   "metadata": {},
   "outputs": [],
   "source": []
  }
 ],
 "metadata": {
  "kernelspec": {
   "display_name": "Python [conda env:.conda-rap_env]",
   "language": "python",
   "name": "conda-env-.conda-rap_env-py"
  },
  "language_info": {
   "codemirror_mode": {
    "name": "ipython",
    "version": 3
   },
   "file_extension": ".py",
   "mimetype": "text/x-python",
   "name": "python",
   "nbconvert_exporter": "python",
   "pygments_lexer": "ipython3",
   "version": "3.6.12"
  }
 },
 "nbformat": 4,
 "nbformat_minor": 5
}
